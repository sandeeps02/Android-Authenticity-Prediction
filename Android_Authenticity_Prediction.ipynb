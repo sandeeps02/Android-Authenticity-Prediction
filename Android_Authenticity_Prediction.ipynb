{
  "nbformat": 4,
  "nbformat_minor": 0,
  "metadata": {
    "colab": {
      "private_outputs": true,
      "provenance": [],
      "collapsed_sections": [
        "vncDsAP0Gaoa",
        "FJNUwmbgGyua",
        "w6K7xa23Elo4",
        "yQaldy8SH6Dl",
        "mDgbUHAGgjLW",
        "O_i_v8NEhb9l",
        "HhfV-JJviCcP",
        "Y3lxredqlCYt",
        "3RnN4peoiCZX",
        "x71ZqKXriCWQ",
        "7hBIi_osiCS2",
        "JlHwYmJAmNHm",
        "35m5QtbWiB9F",
        "PoPl-ycgm1ru",
        "H0kj-8xxnORC",
        "nA9Y7ga8ng1Z",
        "PBTbrJXOngz2",
        "u3PMJOP6ngxN",
        "dauF4eBmngu3",
        "bKJF3rekwFvQ",
        "MSa1f5Uengrz",
        "GF8Ens_Soomf",
        "0wOQAZs5pc--",
        "K5QZ13OEpz2H",
        "lQ7QKXXCp7Bj",
        "448CDAPjqfQr",
        "KSlN3yHqYklG",
        "t6dVpIINYklI",
        "ijmpgYnKYklI",
        "-JiQyfWJYklI",
        "EM7whBJCYoAo",
        "fge-S5ZAYoAp",
        "85gYPyotYoAp",
        "RoGjAbkUYoAp",
        "4Of9eVA-YrdM",
        "iky9q4vBYrdO",
        "F6T5p64dYrdO",
        "y-Ehk30pYrdP",
        "bamQiAODYuh1",
        "QHF8YVU7Yuh3",
        "GwzvFGzlYuh3",
        "qYpmQ266Yuh3",
        "OH-pJp9IphqM",
        "bbFf2-_FphqN",
        "_ouA3fa0phqN",
        "Seke61FWphqN",
        "PIIx-8_IphqN",
        "t27r6nlMphqO",
        "r2jJGEOYphqO",
        "b0JNsNcRphqO",
        "BZR9WyysphqO",
        "jj7wYXLtphqO",
        "eZrbJ2SmphqO",
        "rFu4xreNphqO",
        "YJ55k-q6phqO",
        "gCFgpxoyphqP",
        "OVtJsKN_phqQ",
        "lssrdh5qphqQ",
        "U2RJ9gkRphqQ",
        "1M8mcRywphqQ",
        "tgIPom80phqQ",
        "JMzcOPDDphqR",
        "x-EpHcCOp1ci",
        "X_VqEhTip1ck",
        "8zGJKyg5p1ck",
        "PVzmfK_Ep1ck",
        "n3dbpmDWp1ck",
        "ylSl6qgtp1ck",
        "ZWILFDl5p1ck",
        "M7G43BXep1ck",
        "Ag9LCva-p1cl",
        "E6MkPsBcp1cl",
        "2cELzS2fp1cl",
        "3MPXvC8up1cl",
        "NC_X3p0fY2L0",
        "UV0SzAkaZNRQ",
        "YPEH6qLeZNRQ",
        "q29F0dvdveiT",
        "EXh0U9oCveiU",
        "22aHeOlLveiV",
        "g-ATYxFrGrvw",
        "Yfr_Vlr8HBkt",
        "8yEUt7NnHlrM",
        "tEA2Xm5dHt1r",
        "I79__PHVH19G",
        "Ou-I18pAyIpj",
        "fF3858GYyt-u",
        "4_0_7-oCpUZd",
        "hwyV_J3ipUZe",
        "3yB-zSqbpUZe",
        "dEUvejAfpUZe",
        "Fd15vwWVpUZf",
        "bn_IUdTipZyH",
        "49K5P_iCpZyH",
        "Nff-vKELpZyI",
        "kLW572S8pZyI",
        "dWbDXHzopZyI",
        "yLjJCtPM0KBk",
        "xiyOF9F70UgQ",
        "7wuGOrhz0itI",
        "id1riN9m0vUs",
        "578E2V7j08f6",
        "89xtkJwZ18nB",
        "67NQN5KX2AMe",
        "Iwf50b-R2tYG",
        "GMQiZwjn3iu7",
        "WVIkgGqN3qsr",
        "XkPnILGE3zoT",
        "Hlsf0x5436Go",
        "mT9DMSJo4nBL",
        "c49ITxTc407N",
        "OeJFEK0N496M",
        "9ExmJH0g5HBk",
        "cJNqERVU536h",
        "k5UmGsbsOxih",
        "T0VqWOYE6DLQ",
        "qBMux9mC6MCf",
        "-oLEiFgy-5Pf",
        "C74aWNz2AliB",
        "2DejudWSA-a0",
        "pEMng2IbBLp7",
        "rAdphbQ9Bhjc",
        "TNVZ9zx19K6k",
        "nqoHp30x9hH9",
        "rMDnDkt2B6du",
        "yiiVWRdJDDil",
        "1UUpS68QDMuG",
        "kexQrXU-DjzY",
        "T5CmagL3EC8N",
        "BhH2vgX9EjGr",
        "qjKvONjwE8ra",
        "P1XJ9OREExlT",
        "VFOzZv6IFROw",
        "TIqpNgepFxVj",
        "VfCC591jGiD4",
        "OB4l2ZhMeS1U",
        "ArJBuiUVfxKd",
        "4qY1EAkEfxKe",
        "PiV4Ypx8fxKe",
        "TfvqoZmBfxKf",
        "dJ2tPlVmpsJ0",
        "JWYfwnehpsJ1",
        "-jK_YjpMpsJ2",
        "HAih1iBOpsJ2",
        "zVGeBEFhpsJ2",
        "bmKjuQ-FpsJ3",
        "Fze-IPXLpx6K",
        "7AN1z2sKpx6M",
        "9PIHJqyupx6M",
        "_-qAgymDpx6N",
        "Z-hykwinpx6N",
        "h_CCil-SKHpo",
        "cBFFvTBNJzUa",
        "HvGl1hHyA_VK",
        "EyNgTHvd2WFk",
        "KH5McJBi2d8v",
        "iW_Lq9qf2h6X",
        "-Kee-DAl2viO",
        "gCX9965dhzqZ",
        "gIfDvo9L0UH2"
      ],
      "include_colab_link": true
    },
    "kernelspec": {
      "name": "python3",
      "display_name": "Python 3"
    },
    "language_info": {
      "name": "python"
    }
  },
  "cells": [
    {
      "cell_type": "markdown",
      "metadata": {
        "id": "view-in-github",
        "colab_type": "text"
      },
      "source": [
        "<a href=\"https://colab.research.google.com/github/sandeeps02/Android-Authenticity-Prediction/blob/main/Android_Authenticity_Prediction.ipynb\" target=\"_parent\"><img src=\"https://colab.research.google.com/assets/colab-badge.svg\" alt=\"Open In Colab\"/></a>"
      ]
    },
    {
      "cell_type": "markdown",
      "source": [
        "# **Project Name**    - Andriod Authenticity Prediction\n",
        "\n",
        "\n"
      ],
      "metadata": {
        "id": "vncDsAP0Gaoa"
      }
    },
    {
      "cell_type": "markdown",
      "source": [
        "##### **Project Type**    - EDA/Regression/Classification\n",
        "##### **Contribution**    - Individual"
      ],
      "metadata": {
        "id": "beRrZCGUAJYm"
      }
    },
    {
      "cell_type": "markdown",
      "source": [
        "# **Project Summary -**"
      ],
      "metadata": {
        "id": "FJNUwmbgGyua"
      }
    },
    {
      "cell_type": "markdown",
      "source": [
        "This dataset consists of apps needed permissions during installation and run-time. We collect apps from three different sources\n",
        "\n",
        "google play, third-party apps and malware dataset. This file contains more than 30,000 Android apps, features extracted at the\n",
        "\n",
        "time of installation and execution One file contains the name of the features and others contain a .apk file corresponding to\n",
        "\n",
        "extracted permissions with respective packages. Apps are collected from Google's play store, hiapk, app china, Android, mumay\n",
        "\n",
        "gtan sideme, and pondoapp. These apk files collected from the last three years continuously contain of distinct malware families But Here you are only supposed to predict whether the app is benign(0) or malware(1)"
      ],
      "metadata": {
        "id": "F6v_1wHtG2nS"
      }
    },
    {
      "cell_type": "markdown",
      "source": [
        "# **GitHub Link -**"
      ],
      "metadata": {
        "id": "w6K7xa23Elo4"
      }
    },
    {
      "cell_type": "markdown",
      "source": [
        "https://github.com/sandeeps02/Android-Authenticity-Prediction"
      ],
      "metadata": {
        "id": "h1o69JH3Eqqn"
      }
    },
    {
      "cell_type": "markdown",
      "source": [
        "# **Problem Statement**\n"
      ],
      "metadata": {
        "id": "yQaldy8SH6Dl"
      }
    },
    {
      "cell_type": "markdown",
      "source": [
        "Android permission data set contains many types of permission which basically decide whether the app is good or bad.\n",
        "\n",
        "So main problem statement is to identify the app is malware or benign.\n"
      ],
      "metadata": {
        "id": "DpeJGUA3kjGy"
      }
    },
    {
      "cell_type": "markdown",
      "source": [
        "# **General Guidelines** : -  "
      ],
      "metadata": {
        "id": "mDgbUHAGgjLW"
      }
    },
    {
      "cell_type": "markdown",
      "source": [
        "1.   Well-structured, formatted, and commented code is required.\n",
        "2.   Exception Handling, Production Grade Code & Deployment Ready Code will be a plus. Those students will be awarded some additional credits.\n",
        "     \n",
        "     The additional credits will have advantages over other students during Star Student selection.\n",
        "       \n",
        "             [ Note: - Deployment Ready Code is defined as, the whole .ipynb notebook should be executable in one go\n",
        "                       without a single error logged. ]\n",
        "\n",
        "3.   Each and every logic should have proper comments.\n",
        "4. You may add as many number of charts you want. Make Sure for each and every chart the following format should be answered.\n",
        "        \n",
        "\n",
        "```\n",
        "# Chart visualization code\n",
        "```\n",
        "            \n",
        "\n",
        "*   Why did you pick the specific chart?\n",
        "*   What is/are the insight(s) found from the chart?\n",
        "* Will the gained insights help creating a positive business impact?\n",
        "Are there any insights that lead to negative growth? Justify with specific reason.\n",
        "\n",
        "5. You have to create at least 15 logical & meaningful charts having important insights.\n",
        "\n",
        "\n",
        "[ Hints : - Do the Vizualization in  a structured way while following \"UBM\" Rule.\n",
        "\n",
        "U - Univariate Analysis,\n",
        "\n",
        "B - Bivariate Analysis (Numerical - Categorical, Numerical - Numerical, Categorical - Categorical)\n",
        "\n",
        "M - Multivariate Analysis\n",
        " ]\n",
        "\n",
        "\n",
        "\n",
        "\n",
        "\n",
        "6. You may add more ml algorithms for model creation. Make sure for each and every algorithm, the following format should be answered.\n",
        "\n",
        "\n",
        "*   Explain the ML Model used and it's performance using Evaluation metric Score Chart.\n",
        "\n",
        "\n",
        "*   Cross- Validation & Hyperparameter Tuning\n",
        "\n",
        "*   Have you seen any improvement? Note down the improvement with updates Evaluation metric Score Chart.\n",
        "\n",
        "*   Explain each evaluation metric's indication towards business and the business impact pf the ML model used.\n",
        "\n",
        "\n",
        "\n",
        "\n",
        "\n",
        "\n",
        "\n",
        "\n",
        "\n",
        "\n",
        "\n",
        "\n",
        "\n",
        "\n",
        "\n",
        "\n",
        "\n",
        "\n"
      ],
      "metadata": {
        "id": "ZrxVaUj-hHfC"
      }
    },
    {
      "cell_type": "markdown",
      "source": [
        "# ***Let's Begin !***"
      ],
      "metadata": {
        "id": "O_i_v8NEhb9l"
      }
    },
    {
      "cell_type": "markdown",
      "source": [
        "## ***1. Know Your Data***"
      ],
      "metadata": {
        "id": "HhfV-JJviCcP"
      }
    },
    {
      "cell_type": "markdown",
      "source": [
        "### Import Libraries"
      ],
      "metadata": {
        "id": "Y3lxredqlCYt"
      }
    },
    {
      "cell_type": "code",
      "source": [
        "# Import Libraries%matplotlib inline\n",
        "import pandas as pd\n",
        "import matplotlib.pyplot as plt\n",
        "import plotly.offline as py\n",
        "import plotly.graph_objs as go\n",
        "import plotly.figure_factory as ff\n",
        "import plotly\n",
        "import plotly.express as px\n",
        "import seaborn as sns\n",
        "import numpy as np\n",
        "import missingno as msno\n",
        "import warnings\n",
        "warnings.filterwarnings('ignore')\n",
        "from statsmodels.stats.outliers_influence import variance_inflation_factor\n",
        "from scipy.stats import norm\n",
        "from sklearn.preprocessing import StandardScaler\n",
        "from scipy import stats\n",
        "from sklearn.preprocessing import OneHotEncoder\n",
        "from sklearn.model_selection import train_test_split\n",
        "import scipy.stats as stats\n",
        "from sklearn.preprocessing import StandardScaler\n",
        "from sklearn.metrics import precision_score, recall_score, f1_score,accuracy_score\n",
        "from sklearn.metrics import precision_recall_fscore_support\n",
        "from sklearn.metrics import roc_auc_score\n",
        "from sklearn.model_selection import GridSearchCV,RandomizedSearchCV\n",
        "from sklearn.linear_model import LogisticRegression\n",
        "from sklearn.neighbors import KNeighborsClassifier\n",
        "from sklearn.tree import DecisionTreeClassifier\n",
        "from sklearn.svm import LinearSVC, SVC\n",
        "from sklearn.neural_network import MLPClassifier\n",
        "from sklearn.ensemble import RandomForestClassifier, GradientBoostingClassifier\n",
        "from sklearn.ensemble import BaggingClassifier\n",
        "from sklearn.model_selection import RepeatedStratifiedKFold\n",
        "from sklearn.model_selection import RandomizedSearchCV\n",
        "from scipy.stats import loguniform\n",
        "import xgboost as xgb"
      ],
      "metadata": {
        "id": "M8Vqi-pPk-HR"
      },
      "execution_count": null,
      "outputs": []
    },
    {
      "cell_type": "markdown",
      "source": [
        "### Dataset Loading"
      ],
      "metadata": {
        "id": "3RnN4peoiCZX"
      }
    },
    {
      "cell_type": "code",
      "source": [
        "#connecting to Gdrive\n",
        "from google.colab import drive\n",
        "drive.mount('/content/drive')"
      ],
      "metadata": {
        "id": "QgSKsQp0nrS_"
      },
      "execution_count": null,
      "outputs": []
    },
    {
      "cell_type": "code",
      "source": [
        "# Load Dataset\n",
        "File_path=\"/content/drive/MyDrive/Colab Notebooks/ANDRIOD AUTHENTICITY PREDICTION.csv\"\n",
        "\n",
        "df=pd.read_csv(File_path)"
      ],
      "metadata": {
        "id": "C5yWkwcMqCxc"
      },
      "execution_count": null,
      "outputs": []
    },
    {
      "cell_type": "markdown",
      "source": [
        "### Dataset First View"
      ],
      "metadata": {
        "id": "x71ZqKXriCWQ"
      }
    },
    {
      "cell_type": "code",
      "source": [
        "pd.set_option('display.max_columns', None)"
      ],
      "metadata": {
        "id": "PVudNNORBz7o"
      },
      "execution_count": null,
      "outputs": []
    },
    {
      "cell_type": "code",
      "source": [
        "# Dataset First Look\n",
        "df.head()"
      ],
      "metadata": {
        "id": "LWNFOSvLl09H"
      },
      "execution_count": null,
      "outputs": []
    },
    {
      "cell_type": "markdown",
      "source": [
        "### Dataset Rows & Columns count"
      ],
      "metadata": {
        "id": "7hBIi_osiCS2"
      }
    },
    {
      "cell_type": "code",
      "source": [
        "# Dataset Rows & Columns count\n",
        "df.shape\n"
      ],
      "metadata": {
        "id": "Kllu7SJgmLij"
      },
      "execution_count": null,
      "outputs": []
    },
    {
      "cell_type": "markdown",
      "source": [
        "### Dataset Information"
      ],
      "metadata": {
        "id": "JlHwYmJAmNHm"
      }
    },
    {
      "cell_type": "code",
      "source": [
        "# Dataset Info\n",
        "df.info(verbose=True)"
      ],
      "metadata": {
        "id": "e9hRXRi6meOf"
      },
      "execution_count": null,
      "outputs": []
    },
    {
      "cell_type": "markdown",
      "source": [
        "#### Duplicate Values"
      ],
      "metadata": {
        "id": "35m5QtbWiB9F"
      }
    },
    {
      "cell_type": "code",
      "source": [
        "df.duplicated"
      ],
      "metadata": {
        "id": "-weZ_a3_9sxc"
      },
      "execution_count": null,
      "outputs": []
    },
    {
      "cell_type": "markdown",
      "source": [
        "#### Missing Values/Null Values"
      ],
      "metadata": {
        "id": "PoPl-ycgm1ru"
      }
    },
    {
      "cell_type": "code",
      "source": [
        "# Missing Values/Null Values Count\n",
        "def show_missing():\n",
        "    missing = df.columns[df.isnull().any()].tolist()\n",
        "    return missing\n",
        "\n",
        "# Missing data counts and percentage\n",
        "print('Missing Data Count')\n",
        "print(df[show_missing()].isnull().sum().sort_values(ascending = False))\n",
        "print('--'*50)\n",
        "print('Missing Data Percentage')\n",
        "print(round(df[show_missing()].isnull().sum().sort_values(ascending = False)/len(df)*100,2))"
      ],
      "metadata": {
        "id": "GgHWkxvamxVg"
      },
      "execution_count": null,
      "outputs": []
    },
    {
      "cell_type": "code",
      "source": [
        "# Visualizing the missing values\n",
        "msno.bar(df)"
      ],
      "metadata": {
        "id": "3q5wnI3om9sJ"
      },
      "execution_count": null,
      "outputs": []
    },
    {
      "cell_type": "markdown",
      "source": [
        "### What did you know about your dataset?"
      ],
      "metadata": {
        "id": "H0kj-8xxnORC"
      }
    },
    {
      "cell_type": "markdown",
      "source": [],
      "metadata": {
        "id": "gfoNAAC-nUe_"
      }
    },
    {
      "cell_type": "markdown",
      "source": [
        "## ***2. Understanding Your Variables***"
      ],
      "metadata": {
        "id": "nA9Y7ga8ng1Z"
      }
    },
    {
      "cell_type": "code",
      "source": [
        "# Dataset Columns\n",
        "column=list(df.columns)\n",
        "print(column)"
      ],
      "metadata": {
        "id": "j7xfkqrt5Ag5"
      },
      "execution_count": null,
      "outputs": []
    },
    {
      "cell_type": "code",
      "source": [
        "# Dataset Describe\n",
        "df.describe(include='all')"
      ],
      "metadata": {
        "id": "DnOaZdaE5Q5t"
      },
      "execution_count": null,
      "outputs": []
    },
    {
      "cell_type": "markdown",
      "source": [
        "### Variables Description"
      ],
      "metadata": {
        "id": "PBTbrJXOngz2"
      }
    },
    {
      "cell_type": "markdown",
      "source": [
        "1.App - Name of the App\n",
        "\n",
        "2.Package: OBB/Data package installed in root folder\n",
        "\n",
        "3. Category App Category (e.g., Entertainment, Adventure, puzzle, Action, Antivirus, etc.)\n",
        "\n",
        "4.Description: - App Description\n",
        "\n",
        "5.Rating out of 5\n",
        "\n",
        "6.Number of ratings- No. of Ratings given by users\n",
        "\n",
        "7.Price-Price of the App\n",
        "\n",
        "8.Related apps related to installed App\n",
        "\n",
        "9.Dangerous (D) permissions count: No. of Dangerous Permissions allowed by user\n",
        "\n",
        "10.Safe (S) permissions count: - No. of Safe Permissions allowed by user\n",
        "\n",
        "11.Default: Access DRM content. (S)-0: No. 1: Yes\n",
        "\n",
        "12. Default: Access Email provider data (S):-0: No. 1: Yes\n",
        "\n",
        "13. Default: Access all system downloads (S)-0: No. 1: Yes\n",
        "\n",
        "14. Default: Access download manager. (S)-0: No. 1: Yes\n",
        "\n",
        "15. Default: Advanced download manager functions. (S)-0: No. 1: Yes\n",
        "\n",
        "16. Default: Audio File Access (S)-0: No. 1: Yes\n",
        "\n",
        "17. Default: Install DRM content. (S)-0: No. 1: Yes\n",
        "\n",
        "15. Default: Modify Google service configuration (S)-0: No. 1: Yes\n",
        "\n",
        "19. Default: Modify Google settings (5)0: No. 1: Yes\n",
        "\n",
        "20. Default: Move application resources (S): 0: No. 1: Yes 21. Default: Read Google settings (5):-0: No. 1: Yes\n",
        "\n",
        "22. Default: Send download notifications. (S)-0: No. 1: Yes\n",
        "\n",
        "23. Default: Voice Search Shortcuts (S)-0: No 1: Yes\n",
        "\n",
        "24. Default: access Surface Flinger (S)-0: No, 1: Yes\n",
        "\n",
        "25.Default access checking properties (S)-0: No. 1: Yes\n",
        "\n",
        "26. Default access the cache filesystem (S)-0: No, 1: Yes\n",
        "27. Default: access to passwords for Google accounts (S)-0: No, 1: Yes\n",
        "28. Default: act as an account authenticator (5):-0: No, 1: Yes\n",
        "\n",
        "29. Default bind to a wallpaper (S)-0: No. 1: Yes\n",
        "\n",
        "30. Default: bind to an input method (S)-0: No. 1: Yes\n",
        "31. Default: change screen orientation (S)-0: No.1: Yes\n",
        "\n",
        "32. Default: coarse (network-based) location (S)-0: No. 1: Yes 33. Default: control location update notifications (S)-0: No, 1: Yes\n",
        "\n",
        "34. Default: control system backup and restore (5)0: No. 1: Yes\n",
        "35. Default: delete applications (S)-0: No. 1: Yes\n",
        "\n",
        "36. Default: delete other applications caches (S)-0: No. 1: Yes\n",
        "\n",
        "37. Default: delete other applications' data (S)-0 No. 1: Yes\n",
        "38. Default: directly call any phone numbers (S) 0: No. 1: Yes\n",
        "\n",
        "39. Default: directly install applications (S)-0: No. 1: Yes\n",
        "\n",
        "40. Default: disable or modify status bar (S)-0: No.1: Yes,\n",
        "\n",
        "41. Default: discover known accounts (S)-0: No. 1: Yes\n",
        "\n",
        "42. Default: display unauthorized windows (S)-0: No. 1: Yos\n",
        "43. Default: enable or disable application components (S)-0: No. 1: Yes\n",
        "\n",
        "44. Default: force application to close (5)0: No. 1: Yes\n",
        "\n",
        "45. Default: force device reboot (S) 0:No, 1: Yes\n",
        "46. Default: full Internet access (5)0: No. 1: Yes\n",
        "\n",
        "47. Default interact with a device admin (5)0: No.1: Yes\n",
        "48. Default: manage application tokens (S)-0: No. 1: Yes\n",
        "\n",
        "49. Default: mock location sources for testing (8) G: No. 1: Yes\n",
        "\n",
        "50. Default modify battery statistics (5)-0 No.1: Yes\n",
        "\n",
        "51. Default: modify secure system settings (S) 01 No. 1: Yes\n",
        "\n",
        "52. Default: modify the Google services map (5)-0 No. 1: Yes\n",
        "\n",
        "53. Default: modify/delete USB storage contents modify/delete)-0 No. 1: Yes\n",
        "55. Default: partial shutdown (S)-0: No. 1: Yes\n",
        "\n",
        "56. Default: permanently disable device (S): 0: No. 1: Yen\n",
        "\n",
        "57. Default: permission to install a location provider (5):-0: No. 1: Yes\n",
        "\n",
        "58 Default: power device on or off (S)-0: No. 1: Yes\n",
        "\n",
        "59. Default: press keys and control buttons (S): 0: No. 1: Yes\n",
        "\n",
        "60. Default: prevent app switches (S)-0: No. 1: Yes\n",
        "\n",
        "61. Default: read frame buffer (S) :-0: No. 1: Yes\n",
        "\n",
        "62. Default: read instant messages (S)-0: No.1: Yes\n",
        "\n",
        "63. Default: read phone state and identity (5)0: No, 1: Yes 64. Default: record what you type and actions you take (S)-0: No. 1: Yes\n",
        "\n",
        "65. Default: reset system to factory defaults (S): 0: No. 1: Yes\n",
        "\n",
        "66. Default: run in factory test mode (S)-0: No, 1: Yes 67. Default set time (S): 0: No.1: Yes\n",
        "\n",
        "68. Default: set wallpaper size hints (S)-0: No. 1: Yes\n",
        "69. Default: start IM service (S)-0: No. 1: Yes\n",
        "\n",
        "70. Default: update component usage statistics (S)-0: No, 1: Yes\n",
        "\n",
        "71. Default: write contact data (S): : No. 1: Yes\n",
        "\n",
        "72. Default: write instant messages (S): 0: No. 1: Yes\n",
        "\n",
        "73. Development tools: enable application debugging (D)-0: No. 1: Yes\n",
        "\n",
        "74. Development tools: limit number of running processes (D):-0: No, 1: Yes\n",
        "\n",
        "75. Development tools: make all background applications close (0) 0:No. 1: Yes\n",
        "\n",
        "76. Development tools: send Linux signals to applications (D)-0: No. 1: Yes\n",
        "\n",
        "77. Hardware controls: change your audio settings (D):+0: No, 1: Yos\n",
        "\n",
        "78. Hardware controls: control flashlight (S)-0: No. 1: Yes\n",
        "\n",
        "79. Hardware controls: control vibrator (S)-0: No. 1: Yes\n",
        "\n",
        "80. Hardware controls record audio (D): 0 : No. 1: Yes\n",
        "\n",
        "81. Hardware controls: take pictures and videos (D)=0: No. 1: Yes\n",
        "\n",
        "82. Hardware controls test hardware (S)-0 No 1: Yes\n",
        "83. Network communication: Broadcast data messages to applications (5)-0: No. 1: Yes\n",
        "84. Network communication control Near Field Communication (D)0: No. 1: Yes\n",
        "\n",
        "85. Network communication create Bluetooth connections (D)0: No.1 Yes\n",
        "\n",
        "86. Network communication download files without notification (5)-0 No.1 Yes\n",
        "\n",
        "87. Network communication: full internet access (D)-0: No. 1: Yes\n",
        "\n",
        "88. Network communication make/receive Internet calls (D)-0 No. 1: Yes\n",
        "\n",
        "89. Network communication receive data from Internet (5)-0: No, 1: Yes\n",
        "\n",
        "90. Network communication: view Wi-Fi state (S)-0: No. 1: Yes\n",
        "91. Network communication: view network state (S)-0: No. 1: Yes\n",
        "\n",
        "92. Phone calls: intercept outgoing calls (D)-0: No. 1: Yes\n",
        "93. Phone calls: modify phone state (5)-0: No.1: Yes\n",
        "\n",
        "94. Phone calls: read phone state and identity (D)-0: No.1: Yes\n",
        "\n",
        "95. Services that cost you money: directly call phone numbers (D):-0: No. 1: Yes\n",
        "\n",
        "96. Services that cost you money: send SMS messages (D)-0: No. 1: Yes\n",
        "\n",
        "97. Storage: modify/delete USB storage contents modify/delete SD card contents (D)0: No. 1: Yes\n",
        "\n",
        "98. System tools: allow Wi-Fi Multicast reception (D)-0: No.1: Yes\n",
        "99. System tools: automatically start at boot (5)-0: No, 1: Yes\n",
        "\n",
        "100. System tools: Bluetooth administration (D)-0 No, 1: Yes\n",
        "101. System tools: change Wi-Fi state (D)-0: No.1: Yes\n",
        "\n",
        "102 System tools: change background data usage setting (5)-0: No. 1: Yes\n",
        "\n",
        "103. System tools: change network connectivity (D)-0: No. 1: Yen\n",
        "\n",
        "104 System tools: change your Ut settings (D)-0: No, 1: Yes\n",
        "\n",
        "105. System tools: delete all application cache data (D)-0: No.1: Yes\n",
        "\n",
        "106 System tools: disable keylock (D)0 No.1: Yes\n",
        "\n",
        "107. System tools: display system-level alerts (D): D: No. 1: Yes\n",
        "\n",
        "108. System tools: expand/collapse status bar (5) 0:No.1: You\n",
        "109. System tools: force stop other applications (5)-0: No. 1: Yes\n",
        "110. System tools: format external storage (D): 0: No. 1: Yes\n",
        "\n",
        "\n",
        "111. System tools: kill background processes (S)-0: No. 1: Yes\n",
        "\n",
        "112. System tools: make application always run (D):-0: No.1: Yes\n",
        "\n",
        "113. System tools: measure application storage space (S): 0:No. 1: Yes\n",
        "\n",
        "114. System tools: modify global animation speed (D):- 0: No. 1: Yes\n",
        "\n",
        "115. System tools: modify global system settings (D): 0:No. 1: Yes\n",
        "\n",
        "116. System tools: mount and unmount filesystems (D): 0: No. 1: Yes\n",
        "\n",
        "117. System tools: prevent device from sleeping (D): 0: No. 1: Yes\n",
        "\n",
        "118. System tools: read subscribed feeds (S)-0: No. 1: Yes\n",
        "\n",
        "119. System tools: read sync settings (S) 0: No. 1: Yes\n",
        "\n",
        "120. System tools: read sync statistics (S)-0: No.1: Yes\n",
        "\n",
        "121. System tools: read/write to resources owned by dig (S)-0: No. 1: Yes\n",
        "\n",
        "122. System tools: reorder running applications (D):-0: No.1: Yes\n",
        "\n",
        "123. System tools: retrieve running applications (D)-0: No, 1: Yes\n",
        "124. System tools: send package removed broadcast (S): 0: No.1: Yes\n",
        "\n",
        "125. System tools: send sticky broadcast (S)-0: No. 1: Yes\n",
        "\n",
        "126. System tools: set preferred applications (S)-0: No. 1: Yes\n",
        "127. System tools: set time zone (D)-0: No. 1: Yes\n",
        "\n",
        "128. System tools: set wallpaper (5)0: No. 1: Yes\n",
        "\n",
        "129 System tools: set wallpaper size hints (S)-0: No. 1: Yes\n",
        "\n",
        "130. System tools: write Access Point Name settings (D) 0: No 1: Yes\n",
        "\n",
        "131. System tools: write subscribed feeds (D)-0: No. 1: Yes 132. System tools: write sync settings (D) -0: No. 1: Yes\n",
        "\n",
        "133. Your accounts: Blogger (D)-0: No. 1: Yes\n",
        "\n",
        "134. Your accounts: Google App Engine (D): 0 No. 1: Yes\n",
        "\n",
        "135 Your accounts Google Docs (D)-0: No. 1: Yes\n",
        "136. Your accounts: Google Finance (D): 0 No. 1: Yes\n",
        "\n",
        "137. Your accounts: Google Maps (D)-0: No. 1: Yes\n",
        "138. Your accounts: Google Spreadsheets (D): 0: No. 1: Yes\n",
        "139. Your accounts: Google Voice (D):0: No. 1: Yes\n",
        "\n",
        "140. Your accounts: Google mail (0): -0: No. 1: Yes\n",
        "\n",
        "141. Your accounts: Picasa Web Albums (D)-0: No. 1: Yes\n",
        "\n",
        "142. Your accounts: YouTube (D): 0: No. 1: Yes\n",
        "\n",
        "143. Your accounts: YouTube usernames (D)-0: No. 1: Yes\n",
        "\n",
        "144. Your accounts: access all Google services (S): -0: No. 1: Yes\n",
        "\n",
        "145. Your accounts: access other Google services (D): -0: No. 1: Yes\n",
        "146. Your accounts: function as an account authenticator (D): -0: No. 1: Yes\n",
        "\n",
        "147. Your accounts: function as the AccountManagerService (S)-0: No. 1: Yes\n",
        "\n",
        "148. Your accounts: contacts data in Google accounts (D) 0: No. 1: Yes\n",
        "\n",
        "149. Your accounts: discover known accounts (S): 0: No. 1: Yes\n",
        "150. Your accounts: manage the accounts list (D): -0: No.1: Yes\n",
        "\n",
        "151. Your accounts: read Google service configuration (S)-0: No. 1: Yos\n",
        "\n",
        "152. Your accounts: use the authentication credentials of an account (D)-0: No, 1: Yes\n",
        "\n",
        "153. Your accounts: view configured accounts (S): 0: No. 1: Yes\n",
        "\n",
        "154. Your location: access extra location provider commands (S)-0: No. 1: Yes\n",
        "\n",
        "155. Your location: coarse (network-based) location (D)-0: No. 1: Yes\n",
        "\n",
        "156. Your location: fine (GPS) location (D): -0: No. 1: Yes\n",
        "\n",
        "157. Your location: mock location sources for testing (D)-0: No. 1: Yes\n",
        "\n",
        "158. Your messages: Read Email attachments (D)-0: No. 1: Yes\n",
        "159. Your messages: Send Gmail (5)0: No. 1: Yes\n",
        "\n",
        "160. Your messages: edit SMS or MMS (D)-0 No.1: Yes\n",
        "\n",
        "161. Your messages: change Gmail (D) 0: No.1: Yes\n",
        "\n",
        "162. Your messages: read Gmail (D)- 0 No. 1: Yes\n",
        "\n",
        "163 Your messages: read Gmail attachment previews (D)1-0: No, 1: Yes\n",
        "\n",
        "164 Your messages: read SMS or MMS (D)-0 No. 1: Yes\n",
        "\n",
        "165. Your messages: read instant messages (D)-0 No. 1 Yos\n",
        "166. Your messages: receive MMS (D)-0: No. 1: Yes\n",
        "167. Your messages: receive SMS (D) -0: No. 1: Yes\n",
        "\n",
        "168. Your messages: receive WAP (D)-0: No.1: Yes\n",
        "\n",
        "169. Your messages: send SMS-received broadcast (S)-0: No, 1: Yes\n",
        "\n",
        "170. Your messages: send WAP-PUSH-received broadcast (S)-0: No. 1: Yes\n",
        "171. Your messages: write instant messages (D):-0: No. 1: Yes\n",
        "\n",
        "172. Your personal information: add or modify calendar events and send email to\n",
        "\n",
        "173. Your personal information: choose widgets (5):-0: No. 1: Yes\n",
        "\n",
        "174. Your personal information: read Browser's history and bookmarks (D): 0: No. 1: Yes 175. Your personal information: read calendar events (D):-0: No. 1: Yes\n",
        "\n",
        "176. Your personal information: read contact data (D)-0: No. 1: Yes 177. Your personal information: read sensitive log data (D): 0: No. 1: Yes\n",
        "\n",
        "178. Your personal information: read user defined dictionary (D):- 0: No. 1: Yes\n",
        "\n",
        "179. Your personal information: retrieve system internal state (S)-0: No, 1: Yes 180. Your personal information set alarm in alarm clock (S): 0:No. 1: Yes\n",
        "\n",
        "181. Your personal information: write Browser's history and bookmarks (D):-0: No, 1: Yes\n",
        "\n",
        "182. Your personal information: write contact data (D)-0: No. 1: Yes\n",
        "\n",
        "183. Your personal information: write to user defined dictionary (S)-0: No. 1: Yes 184. Class-0: Benign. 1: Malware\n",
        "\n"
      ],
      "metadata": {
        "id": "aJV4KIxSnxay"
      }
    },
    {
      "cell_type": "markdown",
      "source": [
        "### Check Unique Values for each variable."
      ],
      "metadata": {
        "id": "u3PMJOP6ngxN"
      }
    },
    {
      "cell_type": "code",
      "source": [
        "# Check Unique Values for each variable.\n",
        "df.nunique()"
      ],
      "metadata": {
        "id": "zms12Yq5n-jE"
      },
      "execution_count": null,
      "outputs": []
    },
    {
      "cell_type": "code",
      "source": [
        "# creating a function to extract all variables unique value\n",
        "def unique_val(data):\n",
        "   return df[data].unique()\n"
      ],
      "metadata": {
        "id": "YPeZC32VGM4h"
      },
      "execution_count": null,
      "outputs": []
    },
    {
      "cell_type": "code",
      "source": [
        "list_variables=list(df.columns)                            # Abstracting variable name in a list type variablel\n",
        "lst=[]                                                      #creating empty list to store unique value of each variable\n",
        "for i in list_variables:\n",
        "  lst.append(unique_val(i))                                 #appending unique value in lst variable\n",
        "for j in range(0,len(list_variables)):\n",
        "  print(f\"UNIQUE VALUE OF {list_variables[j]} : {lst[j]}\")  #printing all unique corresponding to their variables"
      ],
      "metadata": {
        "id": "62t8G-wNGPNn"
      },
      "execution_count": null,
      "outputs": []
    },
    {
      "cell_type": "markdown",
      "source": [
        "## 3. ***Data Wrangling***"
      ],
      "metadata": {
        "id": "dauF4eBmngu3"
      }
    },
    {
      "cell_type": "markdown",
      "source": [
        "### Data Wrangling Code"
      ],
      "metadata": {
        "id": "bKJF3rekwFvQ"
      }
    },
    {
      "cell_type": "code",
      "source": [
        "# Making copy of dataframe\n",
        "data_train=df.copy()"
      ],
      "metadata": {
        "id": "5mKKM1HoH7aa"
      },
      "execution_count": null,
      "outputs": []
    },
    {
      "cell_type": "code",
      "source": [
        "# Write your code to make your dataset analysis ready.\n",
        "# Handling missing value\n",
        "# Missing Values/Null Values Count\n",
        "def show_missing():\n",
        "    missing = df.columns[df.isnull().any()].tolist()\n",
        "    return missing\n",
        "\n",
        "# Missing data counts and percentage\n",
        "print('Missing Data Count')\n",
        "print(df[show_missing()].isnull().sum().sort_values(ascending = False))\n",
        "print('--'*50)\n",
        "print('Missing Data Percentage')\n",
        "print(round(df[show_missing()].isnull().sum().sort_values(ascending = False)/len(df)*100,2))"
      ],
      "metadata": {
        "id": "wk-9a2fpoLcV"
      },
      "execution_count": null,
      "outputs": []
    },
    {
      "cell_type": "code",
      "source": [
        "data_train['Related apps'].info() # Info of Realted apps column"
      ],
      "metadata": {
        "id": "MRNTb8P0JSPg"
      },
      "execution_count": null,
      "outputs": []
    },
    {
      "cell_type": "code",
      "source": [
        "#filling null value with 'None'\n",
        "data_train['Related apps'] = data_train['Related apps'].fillna('None')\n",
        "print('Related apps Missing After:', data_train['Related apps'].isnull().sum())"
      ],
      "metadata": {
        "id": "NCvDgHqPHKz3"
      },
      "execution_count": null,
      "outputs": []
    },
    {
      "cell_type": "code",
      "source": [
        "data_train['Dangerous permissions count'].info()"
      ],
      "metadata": {
        "id": "G8hENDmnLOsp"
      },
      "execution_count": null,
      "outputs": []
    },
    {
      "cell_type": "code",
      "source": [
        "#filling null value with '0'\n",
        "data_train['Dangerous permissions count'] = data_train['Dangerous permissions count'].fillna(0)\n",
        "print('Dangerous permissions count:', data_train['Dangerous permissions count'].isnull().sum())"
      ],
      "metadata": {
        "id": "Cwl3GDqWNYbm"
      },
      "execution_count": null,
      "outputs": []
    },
    {
      "cell_type": "code",
      "source": [
        "#converting flot into int\n",
        "data_train[['Dangerous permissions count','Price','Rating']]=data_train[['Dangerous permissions count','Price','Rating']].astype('int64')"
      ],
      "metadata": {
        "id": "1C1SLA-tMYV7"
      },
      "execution_count": null,
      "outputs": []
    },
    {
      "cell_type": "code",
      "source": [
        "data_train['Description'].info()"
      ],
      "metadata": {
        "id": "hk19PmlLSAUj"
      },
      "execution_count": null,
      "outputs": []
    },
    {
      "cell_type": "code",
      "source": [
        "data_train['Description'].head()"
      ],
      "metadata": {
        "id": "5F3yc0deSim7"
      },
      "execution_count": null,
      "outputs": []
    },
    {
      "cell_type": "code",
      "source": [
        "data_train['Description'] = data_train['Description'].fillna('None')\n",
        "print('Description:', data_train['Description'].isnull().sum())"
      ],
      "metadata": {
        "id": "G2YVOwQDS54h"
      },
      "execution_count": null,
      "outputs": []
    },
    {
      "cell_type": "code",
      "source": [
        "data_train['App'].info()"
      ],
      "metadata": {
        "id": "Ik5r5ERUTRSe"
      },
      "execution_count": null,
      "outputs": []
    },
    {
      "cell_type": "code",
      "source": [
        "data_train['App'] = data_train['App'].fillna('None')\n",
        "print('App:', data_train['App'].isnull().sum())"
      ],
      "metadata": {
        "id": "sH7STz6XTitA"
      },
      "execution_count": null,
      "outputs": []
    },
    {
      "cell_type": "code",
      "source": [
        "# rechecking the null values\n",
        "def show_missing():\n",
        "    missing = data_train.columns[data_train.isnull().any()].tolist()\n",
        "    return missing\n",
        "\n",
        "# Missing data counts and percentage\n",
        "print('Missing Data Count')\n",
        "print(data_train[show_missing()].isnull().sum().sort_values(ascending = False))\n",
        "print('--'*50)\n",
        "print('Missing Data Percentage')\n",
        "print(round(data_train[show_missing()].isnull().sum().sort_values(ascending = False)/len(data_train)*100,2))"
      ],
      "metadata": {
        "id": "6ddlzDMuTwkm"
      },
      "execution_count": null,
      "outputs": []
    },
    {
      "cell_type": "markdown",
      "source": [],
      "metadata": {
        "id": "GUmEKISehRri"
      }
    },
    {
      "cell_type": "code",
      "source": [
        "# find categorical variables\n",
        "categorical = [var for var in data_train.columns if data_train[var].dtype=='O']\n",
        "print('There are {} categorical variables'.format(len(categorical)))"
      ],
      "metadata": {
        "id": "P-bEGmpOT_XW"
      },
      "execution_count": null,
      "outputs": []
    },
    {
      "cell_type": "code",
      "source": [
        "# find Numerical variables\n",
        "numerical = [var for var in data_train.columns if data_train[var].dtype!='O']\n",
        "print('There are {} numerical variables'.format(len(numerical)))"
      ],
      "metadata": {
        "id": "fyhQ4l7QWzWZ"
      },
      "execution_count": null,
      "outputs": []
    },
    {
      "cell_type": "code",
      "source": [
        "discrete = []\n",
        "for var in numerical:\n",
        "    if len(data_train[var].unique())<20:\n",
        "        print(var, ' values: ', data_train[var].unique())\n",
        "        discrete.append(var)\n",
        "\n",
        "print('There are {} discrete variables'.format(len(discrete)))"
      ],
      "metadata": {
        "id": "K2rLbgvNW9Fp"
      },
      "execution_count": null,
      "outputs": []
    },
    {
      "cell_type": "code",
      "source": [
        "continuous = [var for var in numerical if var not in discrete and var not in ['Class']]\n",
        "print(continuous)"
      ],
      "metadata": {
        "id": "SkkpyGIaXlBc"
      },
      "execution_count": null,
      "outputs": []
    },
    {
      "cell_type": "code",
      "source": [
        "for var in continuous:\n",
        "    plt.figure(figsize=(15,6))\n",
        "    plt.subplot(1, 2, 1)\n",
        "    fig = sns.boxplot(y=data_train[var])\n",
        "    fig.set_title('')\n",
        "    fig.set_ylabel(var)\n",
        "\n",
        "    plt.subplot(1, 2, 2)\n",
        "    fig = sns.distplot(data_train[var].dropna())\n",
        "    fig.set_ylabel('Range')\n",
        "    fig.set_xlabel(var)\n",
        "\n",
        "    plt.show()"
      ],
      "metadata": {
        "id": "SYZ0EU3UYnZG"
      },
      "execution_count": null,
      "outputs": []
    },
    {
      "cell_type": "code",
      "source": [
        "#Capping the outlier rows with Percentiles\n",
        "upper_lim = data_train['Price'].quantile(.95)\n",
        "lower_lim = data_train['Price'].quantile(.05)\n",
        "data_train.loc[(data_train[\"Price\"] > upper_lim),\"Price\"] = upper_lim\n",
        "data_train.loc[(data_train[\"Price\"] < lower_lim),\"Price\"] = lower_lim"
      ],
      "metadata": {
        "id": "THV7EJQ8YqgR"
      },
      "execution_count": null,
      "outputs": []
    },
    {
      "cell_type": "code",
      "source": [
        "#Capping the outlier rows with Percentiles\n",
        "upper_lim = data_train['Number of ratings'].quantile(.95)\n",
        "lower_lim = data_train['Number of ratings'].quantile(.05)\n",
        "data_train.loc[(data_train[\"Number of ratings\"] > upper_lim),\"Number of ratings\"] = upper_lim\n",
        "data_train.loc[(data_train[\"Number of ratings\"] < lower_lim),\"Number of ratings\"] = lower_lim"
      ],
      "metadata": {
        "id": "llwHqAc1alD_"
      },
      "execution_count": null,
      "outputs": []
    },
    {
      "cell_type": "code",
      "source": [
        "#Capping the outlier rows with Percentiles\n",
        "upper_lim = data_train['Dangerous permissions count'].quantile(.95)\n",
        "lower_lim = data_train['Dangerous permissions count'].quantile(.05)\n",
        "data_train.loc[(data_train[\"Dangerous permissions count\"] > upper_lim),\"Dangerous permissions count\"] = upper_lim\n",
        "data_train.loc[(data_train[\"Dangerous permissions count\"] < lower_lim),\"Dangerous permissions count\"] = lower_lim"
      ],
      "metadata": {
        "id": "Xw40QjipbQz0"
      },
      "execution_count": null,
      "outputs": []
    },
    {
      "cell_type": "code",
      "source": [
        "for var in continuous:\n",
        "    plt.figure(figsize=(15,6))\n",
        "    plt.subplot(1, 2, 1)\n",
        "    fig = sns.boxplot(y=data_train[var])\n",
        "    fig.set_title('')\n",
        "    fig.set_ylabel(var)\n",
        "\n",
        "    plt.subplot(1, 2, 2)\n",
        "    fig = sns.distplot(data_train[var].dropna())\n",
        "    fig.set_ylabel('Range')\n",
        "    fig.set_xlabel(var)\n",
        "\n",
        "    plt.show()"
      ],
      "metadata": {
        "id": "Qf5rEEJGbfPO"
      },
      "execution_count": null,
      "outputs": []
    },
    {
      "cell_type": "code",
      "source": [
        "# outlies in discrete variables\n",
        "for var in discrete:\n",
        "    print(data_train[var].value_counts() / np.float(len(data_train)))\n",
        "    print()"
      ],
      "metadata": {
        "id": "LgZOrjSQcCta"
      },
      "execution_count": null,
      "outputs": []
    },
    {
      "cell_type": "markdown",
      "source": [
        "### What all manipulations have you done and insights you found?"
      ],
      "metadata": {
        "id": "MSa1f5Uengrz"
      }
    },
    {
      "cell_type": "markdown",
      "source": [
        "Answer Here."
      ],
      "metadata": {
        "id": "LbyXE7I1olp8"
      }
    },
    {
      "cell_type": "markdown",
      "source": [
        "## ***4. Data Vizualization, Storytelling & Experimenting with charts : Understand the relationships between variables***"
      ],
      "metadata": {
        "id": "GF8Ens_Soomf"
      }
    },
    {
      "cell_type": "markdown",
      "source": [
        "#### Chart - 1"
      ],
      "metadata": {
        "id": "0wOQAZs5pc--"
      }
    },
    {
      "cell_type": "code",
      "source": [
        "#chart of all cateogry wise app\n",
        "print(data_train['Category'].value_counts())\n",
        "sns.countplot(x=data_train[\"Category\"])"
      ],
      "metadata": {
        "id": "7v_ESjsspbW7"
      },
      "execution_count": null,
      "outputs": []
    },
    {
      "cell_type": "markdown",
      "source": [
        "##### 1. Why did you pick the specific chart?"
      ],
      "metadata": {
        "id": "K5QZ13OEpz2H"
      }
    },
    {
      "cell_type": "markdown",
      "source": [
        "It is good to use countplot in category distribution."
      ],
      "metadata": {
        "id": "XESiWehPqBRc"
      }
    },
    {
      "cell_type": "markdown",
      "source": [
        "##### 2. What is/are the insight(s) found from the chart?"
      ],
      "metadata": {
        "id": "lQ7QKXXCp7Bj"
      }
    },
    {
      "cell_type": "markdown",
      "source": [
        "Entertainment,Travel & Local,Books & Reference,Arcade & Action,Brain & Puzzle,Casual,Personalization,Lifestyle,Tools,Education,Communication,Finance and Health & Fitness types of apps are more .\n",
        "\n",
        "\n"
      ],
      "metadata": {
        "id": "C_j1G7yiqdRP"
      }
    },
    {
      "cell_type": "markdown",
      "source": [
        "##### 3. Will the gained insights help creating a positive business impact?\n",
        "Are there any insights that lead to negative growth? Justify with specific reason."
      ],
      "metadata": {
        "id": "448CDAPjqfQr"
      }
    },
    {
      "cell_type": "markdown",
      "source": [],
      "metadata": {
        "id": "3cspy4FjqxJW"
      }
    },
    {
      "cell_type": "markdown",
      "source": [
        "#### Chart - 2"
      ],
      "metadata": {
        "id": "KSlN3yHqYklG"
      }
    },
    {
      "cell_type": "code",
      "source": [
        "# Chart - 2 visualization code\n",
        "#Distribution graph according to rating\n",
        "ax = sns.countplot(data=data_train, x='Rating')\n",
        "ax.set_title('Distribution Accroding to the rating')\n",
        "ax.set_xlabel('Rating')\n",
        "ax.set_ylabel('App Count')\n",
        "plt.show()"
      ],
      "metadata": {
        "id": "R4YgtaqtYklH"
      },
      "execution_count": null,
      "outputs": []
    },
    {
      "cell_type": "markdown",
      "source": [
        "Answer Here."
      ],
      "metadata": {
        "id": "5aaW0BYyYklI"
      }
    },
    {
      "cell_type": "markdown",
      "source": [
        "##### 1. What is/are the insight(s) found from the chart?"
      ],
      "metadata": {
        "id": "ijmpgYnKYklI"
      }
    },
    {
      "cell_type": "markdown",
      "source": [
        "4 and 3 are most given rating to the app."
      ],
      "metadata": {
        "id": "PSx9atu2YklI"
      }
    },
    {
      "cell_type": "markdown",
      "source": [
        "##### 2. Will the gained insights help creating a positive business impact?\n",
        "Are there any insights that lead to negative growth? Justify with specific reason."
      ],
      "metadata": {
        "id": "-JiQyfWJYklI"
      }
    },
    {
      "cell_type": "markdown",
      "source": [
        "Answer Here"
      ],
      "metadata": {
        "id": "BcBbebzrYklV"
      }
    },
    {
      "cell_type": "markdown",
      "source": [
        "#### Chart - 3"
      ],
      "metadata": {
        "id": "EM7whBJCYoAo"
      }
    },
    {
      "cell_type": "code",
      "source": [
        "# Chart - 3 visualization code\n",
        "\n",
        "ax = sns.countplot(data=data_train, x='Class', palette='Set2')\n",
        "ax.set_title('Number of App according to their class')\n",
        "ax.set_xlabel('Class')\n",
        "ax.set_ylabel('App Count')\n",
        "plt.show()"
      ],
      "metadata": {
        "id": "t6GMdE67YoAp"
      },
      "execution_count": null,
      "outputs": []
    },
    {
      "cell_type": "markdown",
      "source": [
        "##### 1. Why did you pick the specific chart?"
      ],
      "metadata": {
        "id": "fge-S5ZAYoAp"
      }
    },
    {
      "cell_type": "markdown",
      "source": [
        "Answer Here."
      ],
      "metadata": {
        "id": "5dBItgRVYoAp"
      }
    },
    {
      "cell_type": "markdown",
      "source": [
        "##### 2. What is/are the insight(s) found from the chart?"
      ],
      "metadata": {
        "id": "85gYPyotYoAp"
      }
    },
    {
      "cell_type": "markdown",
      "source": [
        "Answer Here"
      ],
      "metadata": {
        "id": "4jstXR6OYoAp"
      }
    },
    {
      "cell_type": "markdown",
      "source": [
        "##### 3. Will the gained insights help creating a positive business impact?\n",
        "Are there any insights that lead to negative growth? Justify with specific reason."
      ],
      "metadata": {
        "id": "RoGjAbkUYoAp"
      }
    },
    {
      "cell_type": "markdown",
      "source": [
        "Answer Here"
      ],
      "metadata": {
        "id": "zfJ8IqMcYoAp"
      }
    },
    {
      "cell_type": "markdown",
      "source": [
        "#### Chart - 4"
      ],
      "metadata": {
        "id": "4Of9eVA-YrdM"
      }
    },
    {
      "cell_type": "code",
      "source": [
        "d1=data_train[['Rating','Class']].copy()\n",
        "sns.countplot(x=d1['Rating'],data=d1,hue='Class')"
      ],
      "metadata": {
        "id": "UVgP7jb1QyWq"
      },
      "execution_count": null,
      "outputs": []
    },
    {
      "cell_type": "markdown",
      "source": [
        "##### 1. Why did you pick the specific chart?"
      ],
      "metadata": {
        "id": "iky9q4vBYrdO"
      }
    },
    {
      "cell_type": "markdown",
      "source": [
        "Answer Here."
      ],
      "metadata": {
        "id": "aJRCwT6DYrdO"
      }
    },
    {
      "cell_type": "markdown",
      "source": [
        "##### 2. What is/are the insight(s) found from the chart?"
      ],
      "metadata": {
        "id": "F6T5p64dYrdO"
      }
    },
    {
      "cell_type": "markdown",
      "source": [
        "Answer Here"
      ],
      "metadata": {
        "id": "Xx8WAJvtYrdO"
      }
    },
    {
      "cell_type": "markdown",
      "source": [
        "##### 3. Will the gained insights help creating a positive business impact?\n",
        "Are there any insights that lead to negative growth? Justify with specific reason."
      ],
      "metadata": {
        "id": "y-Ehk30pYrdP"
      }
    },
    {
      "cell_type": "markdown",
      "source": [
        "Answer Here"
      ],
      "metadata": {
        "id": "jLNxxz7MYrdP"
      }
    },
    {
      "cell_type": "markdown",
      "source": [
        "#### Chart - 5"
      ],
      "metadata": {
        "id": "bamQiAODYuh1"
      }
    },
    {
      "cell_type": "code",
      "source": [
        "# Chart - 5 visualization code\n",
        "d2=data_train[['Rating','Price']]\n",
        "sns.countplot(x='Rating',hue='Price',data=d2)"
      ],
      "metadata": {
        "id": "TIJwrbroYuh3"
      },
      "execution_count": null,
      "outputs": []
    },
    {
      "cell_type": "markdown",
      "source": [
        "##### 1. Why did you pick the specific chart?"
      ],
      "metadata": {
        "id": "QHF8YVU7Yuh3"
      }
    },
    {
      "cell_type": "markdown",
      "source": [
        "Answer Here."
      ],
      "metadata": {
        "id": "dcxuIMRPYuh3"
      }
    },
    {
      "cell_type": "markdown",
      "source": [
        "##### 2. What is/are the insight(s) found from the chart?"
      ],
      "metadata": {
        "id": "GwzvFGzlYuh3"
      }
    },
    {
      "cell_type": "markdown",
      "source": [
        "Answer Here"
      ],
      "metadata": {
        "id": "uyqkiB8YYuh3"
      }
    },
    {
      "cell_type": "markdown",
      "source": [
        "##### 3. Will the gained insights help creating a positive business impact?\n",
        "Are there any insights that lead to negative growth? Justify with specific reason."
      ],
      "metadata": {
        "id": "qYpmQ266Yuh3"
      }
    },
    {
      "cell_type": "markdown",
      "source": [
        "Answer Here"
      ],
      "metadata": {
        "id": "_WtzZ_hCYuh4"
      }
    },
    {
      "cell_type": "markdown",
      "source": [
        "#### Chart - 6"
      ],
      "metadata": {
        "id": "OH-pJp9IphqM"
      }
    },
    {
      "cell_type": "code",
      "source": [
        "# Chart - 6 visualization code\n",
        "Rating = data_train['Rating']\n",
        "N_Ratings = data_train['Number of ratings']\n",
        "Price = data_train['Price']\n",
        "DPC = data_train['Dangerous permissions count']\n",
        "SPC = data_train['Safe permissions count']\n",
        "Class = data_train['Class']\n",
        "plotgraph = sns.pairplot(pd.DataFrame(list(zip(Rating, N_Ratings, Price, DPC, SPC, Class)),\n",
        "                        columns=['Rating', 'Number of ratings', 'Price', 'Dangerous permissions count', 'Safe permissions count', 'Class']),\n",
        "                        hue='Class', palette=\"Set2\")"
      ],
      "metadata": {
        "id": "kuRf4wtuphqN"
      },
      "execution_count": null,
      "outputs": []
    },
    {
      "cell_type": "markdown",
      "source": [
        "##### 1. Why did you pick the specific chart?"
      ],
      "metadata": {
        "id": "bbFf2-_FphqN"
      }
    },
    {
      "cell_type": "markdown",
      "source": [
        "Answer Here."
      ],
      "metadata": {
        "id": "loh7H2nzphqN"
      }
    },
    {
      "cell_type": "markdown",
      "source": [
        "##### 2. What is/are the insight(s) found from the chart?"
      ],
      "metadata": {
        "id": "_ouA3fa0phqN"
      }
    },
    {
      "cell_type": "markdown",
      "source": [
        "Answer Here"
      ],
      "metadata": {
        "id": "VECbqPI7phqN"
      }
    },
    {
      "cell_type": "markdown",
      "source": [
        "##### 3. Will the gained insights help creating a positive business impact?\n",
        "Are there any insights that lead to negative growth? Justify with specific reason."
      ],
      "metadata": {
        "id": "Seke61FWphqN"
      }
    },
    {
      "cell_type": "markdown",
      "source": [
        "Answer Here"
      ],
      "metadata": {
        "id": "DW4_bGpfphqN"
      }
    },
    {
      "cell_type": "markdown",
      "source": [
        "#### Chart - 7"
      ],
      "metadata": {
        "id": "PIIx-8_IphqN"
      }
    },
    {
      "cell_type": "code",
      "source": [
        "# Chart - 7 visualization code\n",
        "d = {'Price0_benign': [len(data_train[(data_train['Price']==0) & (data_train['Class']==0)])],\n",
        "     'Price0_malware': [len(data_train[(data_train['Price']==0) & (data_train['Class']==1)])],\n",
        "     'Price>0_benign': [len(data_train[(data_train['Price']>0) & (data_train['Class']==0)])],\n",
        "     'Price>0_malware': [len(data_train[(data_train['Price']>0) & (data_train['Class']==1)])]}\n",
        "\n",
        "price_cls = pd.DataFrame(data=d)\n",
        "plt.figure(figsize=(16,8))\n",
        "sns.barplot(data=price_cls)"
      ],
      "metadata": {
        "id": "lqAIGUfyphqO"
      },
      "execution_count": null,
      "outputs": []
    },
    {
      "cell_type": "markdown",
      "source": [
        "##### 1. Why did you pick the specific chart?"
      ],
      "metadata": {
        "id": "t27r6nlMphqO"
      }
    },
    {
      "cell_type": "markdown",
      "source": [
        "Answer Here."
      ],
      "metadata": {
        "id": "iv6ro40sphqO"
      }
    },
    {
      "cell_type": "markdown",
      "source": [
        "##### 2. What is/are the insight(s) found from the chart?"
      ],
      "metadata": {
        "id": "r2jJGEOYphqO"
      }
    },
    {
      "cell_type": "markdown",
      "source": [
        "Answer Here"
      ],
      "metadata": {
        "id": "Po6ZPi4hphqO"
      }
    },
    {
      "cell_type": "markdown",
      "source": [
        "##### 3. Will the gained insights help creating a positive business impact?\n",
        "Are there any insights that lead to negative growth? Justify with specific reason."
      ],
      "metadata": {
        "id": "b0JNsNcRphqO"
      }
    },
    {
      "cell_type": "markdown",
      "source": [
        "Answer Here"
      ],
      "metadata": {
        "id": "xvSq8iUTphqO"
      }
    },
    {
      "cell_type": "markdown",
      "source": [
        "#### Chart - 8"
      ],
      "metadata": {
        "id": "BZR9WyysphqO"
      }
    },
    {
      "cell_type": "code",
      "source": [
        "# Chart - 8 visualization code\n",
        "cat_benign = data_train.groupby('Category')['Class'].apply(lambda x: (x==0).sum()).reset_index(name='Benign').sort_values('Benign', ascending=False)"
      ],
      "metadata": {
        "id": "TdPTWpAVphqO"
      },
      "execution_count": null,
      "outputs": []
    },
    {
      "cell_type": "code",
      "source": [
        "plt.figure(figsize=(16,8))\n",
        "sns.barplot(y=\"Category\", x=\"Benign\", data=cat_benign)"
      ],
      "metadata": {
        "id": "hrW9ABSxofh-"
      },
      "execution_count": null,
      "outputs": []
    },
    {
      "cell_type": "code",
      "source": [
        "cat_malware = data_train.groupby('Category')['Class'].apply(lambda x: (x==1).sum()).reset_index(name='Malware').sort_values('Malware', ascending=False)"
      ],
      "metadata": {
        "id": "yjP3KSSnonyd"
      },
      "execution_count": null,
      "outputs": []
    },
    {
      "cell_type": "code",
      "source": [
        "plt.figure(figsize=(16,8))\n",
        "sns.barplot(y=\"Category\", x=\"Malware\", data=cat_malware)"
      ],
      "metadata": {
        "id": "GpOIRMT7opf1"
      },
      "execution_count": null,
      "outputs": []
    },
    {
      "cell_type": "markdown",
      "source": [
        "##### 1. Why did you pick the specific chart?"
      ],
      "metadata": {
        "id": "jj7wYXLtphqO"
      }
    },
    {
      "cell_type": "markdown",
      "source": [
        "Answer Here."
      ],
      "metadata": {
        "id": "Ob8u6rCTphqO"
      }
    },
    {
      "cell_type": "markdown",
      "source": [
        "##### 2. What is/are the insight(s) found from the chart?"
      ],
      "metadata": {
        "id": "eZrbJ2SmphqO"
      }
    },
    {
      "cell_type": "markdown",
      "source": [
        "Answer Here"
      ],
      "metadata": {
        "id": "mZtgC_hjphqO"
      }
    },
    {
      "cell_type": "markdown",
      "source": [
        "##### 3. Will the gained insights help creating a positive business impact?\n",
        "Are there any insights that lead to negative growth? Justify with specific reason."
      ],
      "metadata": {
        "id": "rFu4xreNphqO"
      }
    },
    {
      "cell_type": "markdown",
      "source": [
        "Answer Here"
      ],
      "metadata": {
        "id": "ey_0qi68phqO"
      }
    },
    {
      "cell_type": "markdown",
      "source": [
        "#### Chart - 9"
      ],
      "metadata": {
        "id": "YJ55k-q6phqO"
      }
    },
    {
      "cell_type": "code",
      "source": [
        "# Chart - 9 visualization code\n",
        "cat_all = pd.concat([cat_malware, cat_benign['Benign']], axis=1)"
      ],
      "metadata": {
        "id": "B2aS4O1ophqO"
      },
      "execution_count": null,
      "outputs": []
    },
    {
      "cell_type": "code",
      "source": [
        "t1 = go.Bar(\n",
        "    y= cat_all['Malware'],\n",
        "    x= cat_all['Category'],\n",
        "    name='Malware',\n",
        "    marker=dict(color = 'rgb(150,0,0)')\n",
        ")\n",
        "\n",
        "t2 = go.Bar(\n",
        "    y= cat_all['Benign'],\n",
        "    x= cat_all['Category'],\n",
        "    name='Benign',\n",
        "    marker=dict(color = 'rgb(0,150,0)')\n",
        ")\n",
        "\n",
        "data = [t1, t2]\n",
        "layout = go.Layout(\n",
        "    title = 'Malware/Benign',\n",
        "    barmode='stack',\n",
        "    xaxis = {'tickangle': -45},\n",
        "    yaxis = {'title': 'Malware/Benign'}\n",
        ")\n",
        "\n",
        "fig = go.Figure(data=data, layout=layout)\n",
        "\n",
        "plotly.offline.iplot({'data': data, 'layout': layout})"
      ],
      "metadata": {
        "id": "9W9O-obAo6dJ"
      },
      "execution_count": null,
      "outputs": []
    },
    {
      "cell_type": "markdown",
      "source": [
        "##### 1. Why did you pick the specific chart?"
      ],
      "metadata": {
        "id": "gCFgpxoyphqP"
      }
    },
    {
      "cell_type": "markdown",
      "source": [
        "Answer Here."
      ],
      "metadata": {
        "id": "TVxDimi2phqP"
      }
    },
    {
      "cell_type": "markdown",
      "source": [
        "##### 2. What is/are the insight(s) found from the chart?"
      ],
      "metadata": {
        "id": "OVtJsKN_phqQ"
      }
    },
    {
      "cell_type": "markdown",
      "source": [
        "Answer Here"
      ],
      "metadata": {
        "id": "ngGi97qjphqQ"
      }
    },
    {
      "cell_type": "markdown",
      "source": [
        "##### 3. Will the gained insights help creating a positive business impact?\n",
        "Are there any insights that lead to negative growth? Justify with specific reason."
      ],
      "metadata": {
        "id": "lssrdh5qphqQ"
      }
    },
    {
      "cell_type": "markdown",
      "source": [
        "Answer Here"
      ],
      "metadata": {
        "id": "tBpY5ekJphqQ"
      }
    },
    {
      "cell_type": "markdown",
      "source": [
        "#### Chart - 14 - Correlation Heatmap"
      ],
      "metadata": {
        "id": "NC_X3p0fY2L0"
      }
    },
    {
      "cell_type": "code",
      "source": [
        "# Correlation Heatmap visualization code\n",
        "# sns.heatmap(data_train.corr())\n",
        "data_train.corr()"
      ],
      "metadata": {
        "id": "xyC9zolEZNRQ"
      },
      "execution_count": null,
      "outputs": []
    },
    {
      "cell_type": "code",
      "source": [
        "unique_numeric_col_wc = pd.DataFrame(list(zip(Rating, N_Ratings, Price, DPC, SPC, Class)),\n",
        "                        columns=['Rating', 'Number of ratings', 'Price', 'Dangerous permissions count', 'Safe permissions count', 'Class'])"
      ],
      "metadata": {
        "id": "n15utD78Cq6S"
      },
      "execution_count": null,
      "outputs": []
    },
    {
      "cell_type": "code",
      "source": [
        "plt.figure(figsize=(16,8))\n",
        "p = sns.heatmap(unique_numeric_col_wc.corr(), annot=True, cmap=\"YlGnBu\")"
      ],
      "metadata": {
        "id": "Wo6JaEIjCxlQ"
      },
      "execution_count": null,
      "outputs": []
    },
    {
      "cell_type": "markdown",
      "source": [
        "##### 1. Why did you pick the specific chart?"
      ],
      "metadata": {
        "id": "UV0SzAkaZNRQ"
      }
    },
    {
      "cell_type": "markdown",
      "source": [
        "Answer Here."
      ],
      "metadata": {
        "id": "DVPuT8LYZNRQ"
      }
    },
    {
      "cell_type": "markdown",
      "source": [
        "##### 2. What is/are the insight(s) found from the chart?"
      ],
      "metadata": {
        "id": "YPEH6qLeZNRQ"
      }
    },
    {
      "cell_type": "markdown",
      "source": [
        "Answer Here"
      ],
      "metadata": {
        "id": "bfSqtnDqZNRR"
      }
    },
    {
      "cell_type": "markdown",
      "source": [
        "## ***5. Feature Engineering & Data Pre-processing***"
      ],
      "metadata": {
        "id": "yLjJCtPM0KBk"
      }
    },
    {
      "cell_type": "markdown",
      "source": [
        "### 1. Data Transformation"
      ],
      "metadata": {
        "id": "TNVZ9zx19K6k"
      }
    },
    {
      "cell_type": "markdown",
      "source": [
        "#### Do you think that your data needs to be transformed? If yes, which transformation have you used. Explain Why?"
      ],
      "metadata": {
        "id": "nqoHp30x9hH9"
      }
    },
    {
      "cell_type": "code",
      "source": [
        "not_selected=['App','Package','Description','Related apps','Class','Category']"
      ],
      "metadata": {
        "id": "FGE6PdiETGAZ"
      },
      "execution_count": null,
      "outputs": []
    },
    {
      "cell_type": "code",
      "source": [
        "feature=[]\n",
        "column=list(data_train.columns)\n",
        "for i in column:\n",
        "  if i not in not_selected:\n",
        "    feature.append(i)\n",
        "print(feature)"
      ],
      "metadata": {
        "id": "EIqw_bY5QKd2"
      },
      "execution_count": null,
      "outputs": []
    },
    {
      "cell_type": "code",
      "source": [
        "# Transform Your data\n",
        "X=data_train[feature]\n",
        "Y=data_train['Class']"
      ],
      "metadata": {
        "id": "I6quWQ1T9rtH"
      },
      "execution_count": null,
      "outputs": []
    },
    {
      "cell_type": "markdown",
      "source": [
        "### 2. Data Splitting"
      ],
      "metadata": {
        "id": "BhH2vgX9EjGr"
      }
    },
    {
      "cell_type": "code",
      "source": [
        "# Split your data to train and test. Choose Splitting ratio wisely.\n",
        "X_train,X_test,Y_train,Y_test=train_test_split(X,Y,test_size=0.20,random_state=42,stratify=Y)"
      ],
      "metadata": {
        "id": "0CTyd2UwEyNM"
      },
      "execution_count": null,
      "outputs": []
    },
    {
      "cell_type": "code",
      "source": [
        "# Check the shape of train dataset\n",
        "print(X_train.shape,Y_train.shape)\n",
        "\n",
        "# Check the shape of test dataset\n",
        "print(X_test.shape, Y_test.shape)"
      ],
      "metadata": {
        "id": "hTe0fKwgY0Eh"
      },
      "execution_count": null,
      "outputs": []
    },
    {
      "cell_type": "markdown",
      "source": [
        "##### What data splitting ratio have you used and why?"
      ],
      "metadata": {
        "id": "qjKvONjwE8ra"
      }
    },
    {
      "cell_type": "markdown",
      "source": [
        "Answer Here."
      ],
      "metadata": {
        "id": "Y2lJ8cobFDb_"
      }
    },
    {
      "cell_type": "markdown",
      "source": [
        "## ***6. ML Model Implementation***"
      ],
      "metadata": {
        "id": "VfCC591jGiD4"
      }
    },
    {
      "cell_type": "code",
      "source": [
        "def evaluate_model(X_train,Y_train,Y_test,Y_pred):\n",
        "\n",
        "  y_test = Y_test\n",
        "  y_pred = Y_pred\n",
        "  y_train = Y_train\n",
        "\n",
        "  #Evaluation metrics calculation\n",
        "  acc= accuracy_score(y_test,y_pred)\n",
        "  ps= precision_score(y_test,y_pred)\n",
        "  rs= recall_score(y_test,y_pred)\n",
        "  f1_s= f1_score(y_test,y_pred)\n",
        "  rocs=roc_auc_score(y_test,y_pred)\n",
        "\n",
        "  # Print evaluation metrics\n",
        "  print('Accuracy score :',acc)\n",
        "  print('Precision score :',ps)\n",
        "  print('Recall_score :',rs)\n",
        "  print('F1 score :',f1_s)\n",
        "  print('roc auc score :',rocs)\n",
        "\n",
        "  # Plot actual and predicted values\n",
        "  plt.figure(figsize=(18, 6))\n",
        "  plt.plot(y_pred[:100])\n",
        "  plt.plot(y_test[:100])\n",
        "  plt.legend([\"Predicted\", \"Actual\"])\n",
        "  plt.title('Actual and Predicted Sales', fontsize=18)\n",
        "\n",
        "  model_score = [acc,ps, rs, f1_s, rocs]\n",
        "  return model_score"
      ],
      "metadata": {
        "id": "vExuxaSvRSWW"
      },
      "execution_count": null,
      "outputs": []
    },
    {
      "cell_type": "code",
      "source": [
        "score = pd.DataFrame(index = ['Accuracy score','Precision score','Recall score','F1 score','Roc Auc score'])"
      ],
      "metadata": {
        "id": "kUlQ9uhZsxbf"
      },
      "execution_count": null,
      "outputs": []
    },
    {
      "cell_type": "markdown",
      "source": [
        "### ML Model - 1"
      ],
      "metadata": {
        "id": "OB4l2ZhMeS1U"
      }
    },
    {
      "cell_type": "markdown",
      "source": [
        "#### 1. Explain the ML Model used and it's performance using Evaluation metric Score Chart."
      ],
      "metadata": {
        "id": "KQ5F2meiO5mM"
      }
    },
    {
      "cell_type": "code",
      "source": [
        "# ML Model - 1 Implementation\n",
        "\n",
        "clf = LogisticRegression(fit_intercept=True,max_iter=10000)\n",
        "clf.fit(X_train, Y_train)\n",
        "# Predict on the model\n",
        "\n",
        "y_preds = clf.predict(X_test)"
      ],
      "metadata": {
        "id": "kfOPCB9SqY5M"
      },
      "execution_count": null,
      "outputs": []
    },
    {
      "cell_type": "code",
      "source": [
        "# Visualizing evaluation Metric Score chart\n",
        "\n",
        "# Visualizing evaluation Metric Score chart\n",
        "lrscore=evaluate_model(X_train,Y_train,Y_test,y_preds)\n",
        "# Evaluation Metric Score chart\n",
        "score['Logistic Regressiom']=lrscore\n",
        "score\n"
      ],
      "metadata": {
        "id": "nksUR3wXO5mM"
      },
      "execution_count": null,
      "outputs": []
    },
    {
      "cell_type": "markdown",
      "source": [
        "#### 1. Explain the ML Model used and it's performance using Evaluation metric Score Chart."
      ],
      "metadata": {
        "id": "ArJBuiUVfxKd"
      }
    },
    {
      "cell_type": "code",
      "source": [
        "# Visualizing evaluation Metric Score chart"
      ],
      "metadata": {
        "id": "rqD5ZohzfxKe"
      },
      "execution_count": null,
      "outputs": []
    },
    {
      "cell_type": "markdown",
      "source": [
        "#### 2. Cross- Validation & Hyperparameter Tuning"
      ],
      "metadata": {
        "id": "4qY1EAkEfxKe"
      }
    },
    {
      "cell_type": "markdown",
      "source": [
        "##### Which hyperparameter optimization technique have you used and why?"
      ],
      "metadata": {
        "id": "PiV4Ypx8fxKe"
      }
    },
    {
      "cell_type": "markdown",
      "source": [
        "Answer Here."
      ],
      "metadata": {
        "id": "negyGRa7fxKf"
      }
    },
    {
      "cell_type": "markdown",
      "source": [
        "##### Have you seen any improvement? Note down the improvement with updates Evaluation metric Score Chart."
      ],
      "metadata": {
        "id": "TfvqoZmBfxKf"
      }
    },
    {
      "cell_type": "markdown",
      "source": [
        "Answer Here."
      ],
      "metadata": {
        "id": "OaLui8CcfxKf"
      }
    },
    {
      "cell_type": "markdown",
      "source": [
        "### ML Model - 2"
      ],
      "metadata": {
        "id": "dJ2tPlVmpsJ0"
      }
    },
    {
      "cell_type": "markdown",
      "source": [
        "#### 1. Explain the ML Model used and it's performance using Evaluation metric Score Chart."
      ],
      "metadata": {
        "id": "JWYfwnehpsJ1"
      }
    },
    {
      "cell_type": "code",
      "source": [
        "# Visualizing evaluation Metric Score chart\n",
        "Linear_SVM= LinearSVC(fit_intercept=True,max_iter=10000,penalty='l2',)\n"
      ],
      "metadata": {
        "id": "yEl-hgQWpsJ1"
      },
      "execution_count": null,
      "outputs": []
    },
    {
      "cell_type": "code",
      "source": [
        "Linear_SVM.fit(X_train,Y_train)"
      ],
      "metadata": {
        "id": "D3-TOiaLUTlG"
      },
      "execution_count": null,
      "outputs": []
    },
    {
      "cell_type": "code",
      "source": [
        "y_pred_Linear_SVM=Linear_SVM.predict(X_test)"
      ],
      "metadata": {
        "id": "Q2wkX8rtVBlW"
      },
      "execution_count": null,
      "outputs": []
    },
    {
      "cell_type": "code",
      "source": [
        "LSVM_score=evaluate_model(X_train,Y_train,Y_test,y_pred_Linear_SVM)\n",
        "score['Linear svm score']=LSVM_score"
      ],
      "metadata": {
        "id": "SJWCSxA0Vk-1"
      },
      "execution_count": null,
      "outputs": []
    },
    {
      "cell_type": "markdown",
      "source": [
        "#### 2. Cross- Validation & Hyperparameter Tuning"
      ],
      "metadata": {
        "id": "-jK_YjpMpsJ2"
      }
    },
    {
      "cell_type": "code",
      "source": [
        "# ML Model - 1 Implementation with hyperparameter optimization techniques (i.e., GridSearch CV, RandomSearch CV, Bayesian Optimization etc.)\n",
        "\n",
        "# Fit the Algorithm\n",
        "\n",
        "# Predict on the model"
      ],
      "metadata": {
        "id": "Dn0EOfS6psJ2"
      },
      "execution_count": null,
      "outputs": []
    },
    {
      "cell_type": "markdown",
      "source": [
        "##### Which hyperparameter optimization technique have you used and why?"
      ],
      "metadata": {
        "id": "HAih1iBOpsJ2"
      }
    },
    {
      "cell_type": "markdown",
      "source": [
        "Answer Here."
      ],
      "metadata": {
        "id": "9kBgjYcdpsJ2"
      }
    },
    {
      "cell_type": "markdown",
      "source": [
        "##### Have you seen any improvement? Note down the improvement with updates Evaluation metric Score Chart."
      ],
      "metadata": {
        "id": "zVGeBEFhpsJ2"
      }
    },
    {
      "cell_type": "markdown",
      "source": [
        "Answer Here."
      ],
      "metadata": {
        "id": "74yRdG6UpsJ3"
      }
    },
    {
      "cell_type": "markdown",
      "source": [
        "#### 3. Explain each evaluation metric's indication towards business and the business impact pf the ML model used."
      ],
      "metadata": {
        "id": "bmKjuQ-FpsJ3"
      }
    },
    {
      "cell_type": "markdown",
      "source": [
        "Answer Here."
      ],
      "metadata": {
        "id": "BDKtOrBQpsJ3"
      }
    },
    {
      "cell_type": "markdown",
      "source": [
        "### ML Model - 3"
      ],
      "metadata": {
        "id": "Fze-IPXLpx6K"
      }
    },
    {
      "cell_type": "code",
      "source": [
        "XGBClassifier=xgb.XGBClassifier()\n",
        "XGBClassifier.fit(X_train,Y_train)"
      ],
      "metadata": {
        "id": "FFrSXAtrpx6M"
      },
      "execution_count": null,
      "outputs": []
    },
    {
      "cell_type": "code",
      "source": [
        "y_pred_xgb=XGBClassifier.predict(X_test)"
      ],
      "metadata": {
        "id": "JQEJCojrZQ-7"
      },
      "execution_count": null,
      "outputs": []
    },
    {
      "cell_type": "code",
      "source": [
        "XGB_score=evaluate_model(X_train,Y_train,Y_test,y_pred_xgb)\n",
        "score['XGBClassifier score']=XGB_score"
      ],
      "metadata": {
        "id": "pqdfJkHdZzTN"
      },
      "execution_count": null,
      "outputs": []
    },
    {
      "cell_type": "markdown",
      "source": [
        "#### 1. Explain the ML Model used and it's performance using Evaluation metric Score Chart."
      ],
      "metadata": {
        "id": "7AN1z2sKpx6M"
      }
    },
    {
      "cell_type": "code",
      "source": [
        "# Visualizing evaluation Metric Score chart"
      ],
      "metadata": {
        "id": "xIY4lxxGpx6M"
      },
      "execution_count": null,
      "outputs": []
    },
    {
      "cell_type": "markdown",
      "source": [
        "#### 2. Cross- Validation & Hyperparameter Tuning"
      ],
      "metadata": {
        "id": "9PIHJqyupx6M"
      }
    },
    {
      "cell_type": "code",
      "source": [
        "# ML Model - 3 Implementation with hyperparameter optimization techniques (i.e., GridSearch CV, RandomSearch CV, Bayesian Optimization etc.)\n",
        "\n",
        "# Fit the Algorithm\n",
        "\n",
        "# Predict on the model"
      ],
      "metadata": {
        "id": "eSVXuaSKpx6M"
      },
      "execution_count": null,
      "outputs": []
    },
    {
      "cell_type": "markdown",
      "source": [
        "##### Which hyperparameter optimization technique have you used and why?"
      ],
      "metadata": {
        "id": "_-qAgymDpx6N"
      }
    },
    {
      "cell_type": "markdown",
      "source": [
        "Answer Here."
      ],
      "metadata": {
        "id": "lQMffxkwpx6N"
      }
    },
    {
      "cell_type": "markdown",
      "source": [
        "##### Have you seen any improvement? Note down the improvement with updates Evaluation metric Score Chart."
      ],
      "metadata": {
        "id": "Z-hykwinpx6N"
      }
    },
    {
      "cell_type": "markdown",
      "source": [
        "Answer Here."
      ],
      "metadata": {
        "id": "MzVzZC6opx6N"
      }
    },
    {
      "cell_type": "markdown",
      "source": [],
      "metadata": {
        "id": "aOVvJuNFAKd5"
      }
    },
    {
      "cell_type": "markdown",
      "source": [
        "### ML Model - 4\n"
      ],
      "metadata": {
        "id": "OznnZIAIAVyo"
      }
    },
    {
      "cell_type": "code",
      "source": [
        "Gradient_Boosting=GradientBoostingClassifier()\n",
        "Gradient_Boosting.fit(X_train,Y_train)"
      ],
      "metadata": {
        "id": "DCiQzN1pAviU"
      },
      "execution_count": null,
      "outputs": []
    },
    {
      "cell_type": "code",
      "source": [
        "y_predGB=Gradient_Boosting.predict(X_test)"
      ],
      "metadata": {
        "id": "jHhhbw6EAviU"
      },
      "execution_count": null,
      "outputs": []
    },
    {
      "cell_type": "code",
      "source": [
        "GBC_score=evaluate_model(X_train,Y_train,Y_test,y_predGB)\n",
        "score['GBC score']=GBC_score"
      ],
      "metadata": {
        "id": "NM2vyyfaAviV"
      },
      "execution_count": null,
      "outputs": []
    },
    {
      "cell_type": "markdown",
      "source": [
        "###ML Model-5"
      ],
      "metadata": {
        "id": "UU-7yg5WAylK"
      }
    },
    {
      "cell_type": "code",
      "source": [
        "Decision_Tree=DecisionTreeClassifier(criterion='entropy', max_leaf_nodes=10, random_state=0)\n",
        "\n",
        "\n",
        "Decision_Tree.fit(X_train,Y_train)\n",
        "\n",
        "y_predDT=Decision_Tree.predict(X_test)"
      ],
      "metadata": {
        "id": "s0-Ih78yBAWb"
      },
      "execution_count": null,
      "outputs": []
    },
    {
      "cell_type": "code",
      "source": [
        "DT_score=evaluate_model(X_train,Y_train,Y_test,y_predDT)\n",
        "score['DT score']=DT_score"
      ],
      "metadata": {
        "id": "ctlARpVRBAWj"
      },
      "execution_count": null,
      "outputs": []
    },
    {
      "cell_type": "markdown",
      "source": [
        "###ML Model-6"
      ],
      "metadata": {
        "id": "Y1PqHM7ZBB1G"
      }
    },
    {
      "cell_type": "code",
      "source": [
        "Random_Forest=RandomForestClassifier()\n",
        "\n",
        "Random_Forest.fit(X_train,Y_train)\n",
        "\n",
        "y_predRF=Random_Forest.predict(X_test)"
      ],
      "metadata": {
        "id": "FHANQrZlBLHL"
      },
      "execution_count": null,
      "outputs": []
    },
    {
      "cell_type": "code",
      "source": [
        "RF_score=evaluate_model(X_train,Y_train,Y_test,y_predRF)\n",
        "score['RF score']=RF_score"
      ],
      "metadata": {
        "id": "zgGODM1KBLHM"
      },
      "execution_count": null,
      "outputs": []
    },
    {
      "cell_type": "markdown",
      "source": [
        "###ML Model- 7"
      ],
      "metadata": {
        "id": "aD5t8RUPBMgi"
      }
    },
    {
      "cell_type": "code",
      "source": [
        "KNeighbors_Classifier=KNeighborsClassifier()\n",
        "\n",
        "KNeighbors_Classifier.fit(X_train,Y_train)\n",
        "\n",
        "y_predKNC=KNeighbors_Classifier.predict(X_test)"
      ],
      "metadata": {
        "id": "EYieGvYBBUOv"
      },
      "execution_count": null,
      "outputs": []
    },
    {
      "cell_type": "code",
      "source": [
        "KNC_score=evaluate_model(X_train,Y_train,Y_test,y_predKNC)\n",
        "score['KNC score']=KNC_score"
      ],
      "metadata": {
        "id": "0mko09K7BUOw"
      },
      "execution_count": null,
      "outputs": []
    },
    {
      "cell_type": "markdown",
      "source": [
        "###ML Model- 8"
      ],
      "metadata": {
        "id": "_d2w3WqcBVnV"
      }
    },
    {
      "cell_type": "code",
      "source": [
        "Bagging_Classifier=BaggingClassifier()\n",
        "\n",
        "Bagging_Classifier.fit(X_train,Y_train)\n",
        "\n",
        "y_predBC=Bagging_Classifier.predict(X_test)"
      ],
      "metadata": {
        "id": "Mi3qXDFsBbHi"
      },
      "execution_count": null,
      "outputs": []
    },
    {
      "cell_type": "code",
      "source": [
        "BC_score=evaluate_model(X_train,Y_train,Y_test,y_predBC)\n",
        "score['BC score']=BC_score"
      ],
      "metadata": {
        "id": "BCikB0K_BbHj"
      },
      "execution_count": null,
      "outputs": []
    },
    {
      "cell_type": "markdown",
      "source": [
        "#### Score of all models\n"
      ],
      "metadata": {
        "id": "SeDD2Xc4FFlM"
      }
    },
    {
      "cell_type": "code",
      "source": [
        "score"
      ],
      "metadata": {
        "id": "nJ1vBDUGFQ0i"
      },
      "execution_count": null,
      "outputs": []
    },
    {
      "cell_type": "markdown",
      "source": [
        "### 1. Which Evaluation metrics did you consider for a positive business impact and why?"
      ],
      "metadata": {
        "id": "h_CCil-SKHpo"
      }
    },
    {
      "cell_type": "markdown",
      "source": [
        "Accuracy: Classification accuracy is the accuracy we generally mean, whenever we use the term accuracy. We calculate this by calculating the ratio of correct predictions to the total number of input Samples.\n",
        "\n",
        "Precision: There is another metric named Precision. Precision is a measure of a model’s performance that tells you how many of the positive predictions made by the model are actually correct. It is calculated as the number of true positive predictions divided by the number of true positive and false positive predictions.\n",
        "\n",
        "Recall: Lower recall and higher precision give you great accuracy but then it misses a large number of instances. The more the F1 score better will be performance. It can be expressed mathematically in this way.\n",
        "\n",
        "F1 Score: It is a harmonic mean between recall and precision. Its range is [0,1]. This metric usually tells us how precise (It correctly classifies how many instances) and robust (does not miss any significant number of instances) our classifier is.\n",
        "\n",
        "ROC & AUC: Receiver operating characteristic (ROC) curve is the plot of false positive and true positive at different variations. The y axis is plotted with the cumulative distribution of all the true positives and the x axis is plotted with the cumulative distribution of all the false positives.\n",
        "\n",
        "\n",
        "\n",
        "The area under the ROC curve is used as the metric. The higher the AUC, the better the performance of the model.\n",
        "\n",
        "Use case: It is used when the data is not balanced. It can also be used to compare among various classification algorithms.\n",
        "\n",
        "I hope the metrics and how and when they should be used are clear to you."
      ],
      "metadata": {
        "id": "jHVz9hHDKFms"
      }
    },
    {
      "cell_type": "markdown",
      "source": [
        "### 2. Which ML model did you choose from the above created models as your final prediction model and why?"
      ],
      "metadata": {
        "id": "cBFFvTBNJzUa"
      }
    },
    {
      "cell_type": "markdown",
      "source": [
        "Answer Here."
      ],
      "metadata": {
        "id": "6ksF5Q1LKTVm"
      }
    },
    {
      "cell_type": "markdown",
      "source": [
        "### 3. Explain the model which you have used and the feature importance using any model explainability tool?"
      ],
      "metadata": {
        "id": "HvGl1hHyA_VK"
      }
    },
    {
      "cell_type": "markdown",
      "source": [
        "Answer Here."
      ],
      "metadata": {
        "id": "YnvVTiIxBL-C"
      }
    },
    {
      "cell_type": "markdown",
      "source": [
        "# **Conclusion**"
      ],
      "metadata": {
        "id": "gCX9965dhzqZ"
      }
    },
    {
      "cell_type": "markdown",
      "source": [
        "Write the conclusion here."
      ],
      "metadata": {
        "id": "Fjb1IsQkh3yE"
      }
    },
    {
      "cell_type": "markdown",
      "source": [
        "### ***Hurrah! You have successfully completed your Machine Learning Capstone Project !!!***"
      ],
      "metadata": {
        "id": "gIfDvo9L0UH2"
      }
    }
  ]
}